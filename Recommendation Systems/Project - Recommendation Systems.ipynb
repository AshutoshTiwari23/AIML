{
 "cells": [
  {
   "cell_type": "code",
   "execution_count": 1,
   "metadata": {},
   "outputs": [],
   "source": [
    "import os\n",
    "import numpy as np\n",
    "import pandas as pd\n",
    "import glob\n",
    "\n",
    "from sklearn.impute import SimpleImputer\n",
    "\n",
    "from sklearn.model_selection import train_test_split\n",
    "\n",
    "from surprise import KNNWithMeans\n",
    "from surprise import Dataset\n",
    "from surprise import accuracy\n",
    "from surprise import Reader\n",
    "from surprise.model_selection import train_test_split\n",
    "\n",
    "from sklearn.decomposition import TruncatedSVD"
   ]
  },
  {
   "cell_type": "code",
   "execution_count": 2,
   "metadata": {},
   "outputs": [],
   "source": [
    "os.chdir(r'C:\\Users\\ashut\\Downloads\\AIML\\7-Recommendation Systems\\Week 3\\Data Set')"
   ]
  },
  {
   "cell_type": "code",
   "execution_count": 3,
   "metadata": {},
   "outputs": [],
   "source": [
    "all_files = glob.glob(\"*.csv\")"
   ]
  },
  {
   "cell_type": "code",
   "execution_count": 4,
   "metadata": {},
   "outputs": [],
   "source": [
    "# Reading all the csv file in one dataframe\n",
    "\n",
    "smartph_data= pd.concat((pd.read_csv(f,encoding = \"ISO-8859-1\") for f in all_files), ignore_index=True)"
   ]
  },
  {
   "cell_type": "code",
   "execution_count": 5,
   "metadata": {},
   "outputs": [
    {
     "data": {
      "text/html": [
       "<div>\n",
       "<style scoped>\n",
       "    .dataframe tbody tr th:only-of-type {\n",
       "        vertical-align: middle;\n",
       "    }\n",
       "\n",
       "    .dataframe tbody tr th {\n",
       "        vertical-align: top;\n",
       "    }\n",
       "\n",
       "    .dataframe thead th {\n",
       "        text-align: right;\n",
       "    }\n",
       "</style>\n",
       "<table border=\"1\" class=\"dataframe\">\n",
       "  <thead>\n",
       "    <tr style=\"text-align: right;\">\n",
       "      <th></th>\n",
       "      <th>phone_url</th>\n",
       "      <th>date</th>\n",
       "      <th>lang</th>\n",
       "      <th>country</th>\n",
       "      <th>source</th>\n",
       "      <th>domain</th>\n",
       "      <th>score</th>\n",
       "      <th>score_max</th>\n",
       "      <th>extract</th>\n",
       "      <th>author</th>\n",
       "      <th>product</th>\n",
       "    </tr>\n",
       "  </thead>\n",
       "  <tbody>\n",
       "    <tr>\n",
       "      <th>0</th>\n",
       "      <td>/cellphones/samsung-galaxy-s8/</td>\n",
       "      <td>5/2/2017</td>\n",
       "      <td>en</td>\n",
       "      <td>us</td>\n",
       "      <td>Verizon Wireless</td>\n",
       "      <td>verizonwireless.com</td>\n",
       "      <td>10.0</td>\n",
       "      <td>10.0</td>\n",
       "      <td>As a diehard Samsung fan who has had every Sam...</td>\n",
       "      <td>CarolAnn35</td>\n",
       "      <td>Samsung Galaxy S8</td>\n",
       "    </tr>\n",
       "    <tr>\n",
       "      <th>1</th>\n",
       "      <td>/cellphones/samsung-galaxy-s8/</td>\n",
       "      <td>4/28/2017</td>\n",
       "      <td>en</td>\n",
       "      <td>us</td>\n",
       "      <td>Phone Arena</td>\n",
       "      <td>phonearena.com</td>\n",
       "      <td>10.0</td>\n",
       "      <td>10.0</td>\n",
       "      <td>Love the phone. the phone is sleek and smooth ...</td>\n",
       "      <td>james0923</td>\n",
       "      <td>Samsung Galaxy S8</td>\n",
       "    </tr>\n",
       "    <tr>\n",
       "      <th>2</th>\n",
       "      <td>/cellphones/samsung-galaxy-s8/</td>\n",
       "      <td>5/4/2017</td>\n",
       "      <td>en</td>\n",
       "      <td>us</td>\n",
       "      <td>Amazon</td>\n",
       "      <td>amazon.com</td>\n",
       "      <td>6.0</td>\n",
       "      <td>10.0</td>\n",
       "      <td>Adequate feel. Nice heft. Processor's still sl...</td>\n",
       "      <td>R. Craig</td>\n",
       "      <td>Samsung Galaxy S8 (64GB) G950U 5.8\" 4G LTE Unl...</td>\n",
       "    </tr>\n",
       "    <tr>\n",
       "      <th>3</th>\n",
       "      <td>/cellphones/samsung-galaxy-s8/</td>\n",
       "      <td>5/2/2017</td>\n",
       "      <td>en</td>\n",
       "      <td>us</td>\n",
       "      <td>Samsung</td>\n",
       "      <td>samsung.com</td>\n",
       "      <td>9.2</td>\n",
       "      <td>10.0</td>\n",
       "      <td>Never disappointed. One of the reasons I've be...</td>\n",
       "      <td>Buster2020</td>\n",
       "      <td>Samsung Galaxy S8 64GB (AT&amp;T)</td>\n",
       "    </tr>\n",
       "    <tr>\n",
       "      <th>4</th>\n",
       "      <td>/cellphones/samsung-galaxy-s8/</td>\n",
       "      <td>5/11/2017</td>\n",
       "      <td>en</td>\n",
       "      <td>us</td>\n",
       "      <td>Verizon Wireless</td>\n",
       "      <td>verizonwireless.com</td>\n",
       "      <td>4.0</td>\n",
       "      <td>10.0</td>\n",
       "      <td>I've now found that i'm in a group of people t...</td>\n",
       "      <td>S Ate Mine</td>\n",
       "      <td>Samsung Galaxy S8</td>\n",
       "    </tr>\n",
       "  </tbody>\n",
       "</table>\n",
       "</div>"
      ],
      "text/plain": [
       "                        phone_url       date lang country            source  \\\n",
       "0  /cellphones/samsung-galaxy-s8/   5/2/2017   en      us  Verizon Wireless   \n",
       "1  /cellphones/samsung-galaxy-s8/  4/28/2017   en      us       Phone Arena   \n",
       "2  /cellphones/samsung-galaxy-s8/   5/4/2017   en      us            Amazon   \n",
       "3  /cellphones/samsung-galaxy-s8/   5/2/2017   en      us           Samsung   \n",
       "4  /cellphones/samsung-galaxy-s8/  5/11/2017   en      us  Verizon Wireless   \n",
       "\n",
       "                domain  score  score_max  \\\n",
       "0  verizonwireless.com   10.0       10.0   \n",
       "1       phonearena.com   10.0       10.0   \n",
       "2           amazon.com    6.0       10.0   \n",
       "3          samsung.com    9.2       10.0   \n",
       "4  verizonwireless.com    4.0       10.0   \n",
       "\n",
       "                                             extract       author  \\\n",
       "0  As a diehard Samsung fan who has had every Sam...   CarolAnn35   \n",
       "1  Love the phone. the phone is sleek and smooth ...    james0923   \n",
       "2  Adequate feel. Nice heft. Processor's still sl...     R. Craig   \n",
       "3  Never disappointed. One of the reasons I've be...  Buster2020    \n",
       "4  I've now found that i'm in a group of people t...   S Ate Mine   \n",
       "\n",
       "                                             product  \n",
       "0                                  Samsung Galaxy S8  \n",
       "1                                  Samsung Galaxy S8  \n",
       "2  Samsung Galaxy S8 (64GB) G950U 5.8\" 4G LTE Unl...  \n",
       "3                      Samsung Galaxy S8 64GB (AT&T)  \n",
       "4                                  Samsung Galaxy S8  "
      ]
     },
     "execution_count": 5,
     "metadata": {},
     "output_type": "execute_result"
    }
   ],
   "source": [
    "smartph_data.head()"
   ]
  },
  {
   "cell_type": "code",
   "execution_count": 6,
   "metadata": {},
   "outputs": [
    {
     "name": "stdout",
     "output_type": "stream",
     "text": [
      "<class 'pandas.core.frame.DataFrame'>\n",
      "RangeIndex: 1415133 entries, 0 to 1415132\n",
      "Data columns (total 11 columns):\n",
      " #   Column     Non-Null Count    Dtype  \n",
      "---  ------     --------------    -----  \n",
      " 0   phone_url  1415133 non-null  object \n",
      " 1   date       1415133 non-null  object \n",
      " 2   lang       1415133 non-null  object \n",
      " 3   country    1415133 non-null  object \n",
      " 4   source     1415133 non-null  object \n",
      " 5   domain     1415133 non-null  object \n",
      " 6   score      1351644 non-null  float64\n",
      " 7   score_max  1351644 non-null  float64\n",
      " 8   extract    1395772 non-null  object \n",
      " 9   author     1351931 non-null  object \n",
      " 10  product    1415132 non-null  object \n",
      "dtypes: float64(2), object(9)\n",
      "memory usage: 118.8+ MB\n"
     ]
    }
   ],
   "source": [
    "smartph_data.info()"
   ]
  },
  {
   "cell_type": "code",
   "execution_count": 7,
   "metadata": {},
   "outputs": [
    {
     "data": {
      "text/plain": [
       "(1415133, 11)"
      ]
     },
     "execution_count": 7,
     "metadata": {},
     "output_type": "execute_result"
    }
   ],
   "source": [
    "smartph_data.shape"
   ]
  },
  {
   "cell_type": "code",
   "execution_count": 8,
   "metadata": {},
   "outputs": [],
   "source": [
    "# Rounding the score values to the nearest integer\n",
    "\n",
    "smartph_data=smartph_data.round({'score':0})"
   ]
  },
  {
   "cell_type": "code",
   "execution_count": 9,
   "metadata": {},
   "outputs": [
    {
     "data": {
      "text/html": [
       "<div>\n",
       "<style scoped>\n",
       "    .dataframe tbody tr th:only-of-type {\n",
       "        vertical-align: middle;\n",
       "    }\n",
       "\n",
       "    .dataframe tbody tr th {\n",
       "        vertical-align: top;\n",
       "    }\n",
       "\n",
       "    .dataframe thead th {\n",
       "        text-align: right;\n",
       "    }\n",
       "</style>\n",
       "<table border=\"1\" class=\"dataframe\">\n",
       "  <thead>\n",
       "    <tr style=\"text-align: right;\">\n",
       "      <th></th>\n",
       "      <th>phone_url</th>\n",
       "      <th>date</th>\n",
       "      <th>lang</th>\n",
       "      <th>country</th>\n",
       "      <th>source</th>\n",
       "      <th>domain</th>\n",
       "      <th>score</th>\n",
       "      <th>score_max</th>\n",
       "      <th>extract</th>\n",
       "      <th>author</th>\n",
       "      <th>product</th>\n",
       "    </tr>\n",
       "  </thead>\n",
       "  <tbody>\n",
       "    <tr>\n",
       "      <th>0</th>\n",
       "      <td>/cellphones/samsung-galaxy-s8/</td>\n",
       "      <td>5/2/2017</td>\n",
       "      <td>en</td>\n",
       "      <td>us</td>\n",
       "      <td>Verizon Wireless</td>\n",
       "      <td>verizonwireless.com</td>\n",
       "      <td>10.0</td>\n",
       "      <td>10.0</td>\n",
       "      <td>As a diehard Samsung fan who has had every Sam...</td>\n",
       "      <td>CarolAnn35</td>\n",
       "      <td>Samsung Galaxy S8</td>\n",
       "    </tr>\n",
       "    <tr>\n",
       "      <th>1</th>\n",
       "      <td>/cellphones/samsung-galaxy-s8/</td>\n",
       "      <td>4/28/2017</td>\n",
       "      <td>en</td>\n",
       "      <td>us</td>\n",
       "      <td>Phone Arena</td>\n",
       "      <td>phonearena.com</td>\n",
       "      <td>10.0</td>\n",
       "      <td>10.0</td>\n",
       "      <td>Love the phone. the phone is sleek and smooth ...</td>\n",
       "      <td>james0923</td>\n",
       "      <td>Samsung Galaxy S8</td>\n",
       "    </tr>\n",
       "    <tr>\n",
       "      <th>2</th>\n",
       "      <td>/cellphones/samsung-galaxy-s8/</td>\n",
       "      <td>5/4/2017</td>\n",
       "      <td>en</td>\n",
       "      <td>us</td>\n",
       "      <td>Amazon</td>\n",
       "      <td>amazon.com</td>\n",
       "      <td>6.0</td>\n",
       "      <td>10.0</td>\n",
       "      <td>Adequate feel. Nice heft. Processor's still sl...</td>\n",
       "      <td>R. Craig</td>\n",
       "      <td>Samsung Galaxy S8 (64GB) G950U 5.8\" 4G LTE Unl...</td>\n",
       "    </tr>\n",
       "    <tr>\n",
       "      <th>3</th>\n",
       "      <td>/cellphones/samsung-galaxy-s8/</td>\n",
       "      <td>5/2/2017</td>\n",
       "      <td>en</td>\n",
       "      <td>us</td>\n",
       "      <td>Samsung</td>\n",
       "      <td>samsung.com</td>\n",
       "      <td>9.0</td>\n",
       "      <td>10.0</td>\n",
       "      <td>Never disappointed. One of the reasons I've be...</td>\n",
       "      <td>Buster2020</td>\n",
       "      <td>Samsung Galaxy S8 64GB (AT&amp;T)</td>\n",
       "    </tr>\n",
       "    <tr>\n",
       "      <th>4</th>\n",
       "      <td>/cellphones/samsung-galaxy-s8/</td>\n",
       "      <td>5/11/2017</td>\n",
       "      <td>en</td>\n",
       "      <td>us</td>\n",
       "      <td>Verizon Wireless</td>\n",
       "      <td>verizonwireless.com</td>\n",
       "      <td>4.0</td>\n",
       "      <td>10.0</td>\n",
       "      <td>I've now found that i'm in a group of people t...</td>\n",
       "      <td>S Ate Mine</td>\n",
       "      <td>Samsung Galaxy S8</td>\n",
       "    </tr>\n",
       "    <tr>\n",
       "      <th>...</th>\n",
       "      <td>...</td>\n",
       "      <td>...</td>\n",
       "      <td>...</td>\n",
       "      <td>...</td>\n",
       "      <td>...</td>\n",
       "      <td>...</td>\n",
       "      <td>...</td>\n",
       "      <td>...</td>\n",
       "      <td>...</td>\n",
       "      <td>...</td>\n",
       "      <td>...</td>\n",
       "    </tr>\n",
       "    <tr>\n",
       "      <th>1415128</th>\n",
       "      <td>/cellphones/alcatel-ot-club_1187/</td>\n",
       "      <td>5/12/2000</td>\n",
       "      <td>de</td>\n",
       "      <td>de</td>\n",
       "      <td>Ciao</td>\n",
       "      <td>ciao.de</td>\n",
       "      <td>2.0</td>\n",
       "      <td>10.0</td>\n",
       "      <td>Weil mein Onkel bei ALcatel arbeitet habe ich ...</td>\n",
       "      <td>david.paul</td>\n",
       "      <td>Alcatel Club Plus Handy</td>\n",
       "    </tr>\n",
       "    <tr>\n",
       "      <th>1415129</th>\n",
       "      <td>/cellphones/alcatel-ot-club_1187/</td>\n",
       "      <td>5/11/2000</td>\n",
       "      <td>de</td>\n",
       "      <td>de</td>\n",
       "      <td>Ciao</td>\n",
       "      <td>ciao.de</td>\n",
       "      <td>10.0</td>\n",
       "      <td>10.0</td>\n",
       "      <td>Hy Liebe Leserinnen und Leser!! Ich habe seit ...</td>\n",
       "      <td>Christiane14</td>\n",
       "      <td>Alcatel Club Plus Handy</td>\n",
       "    </tr>\n",
       "    <tr>\n",
       "      <th>1415130</th>\n",
       "      <td>/cellphones/alcatel-ot-club_1187/</td>\n",
       "      <td>5/4/2000</td>\n",
       "      <td>de</td>\n",
       "      <td>de</td>\n",
       "      <td>Ciao</td>\n",
       "      <td>ciao.de</td>\n",
       "      <td>2.0</td>\n",
       "      <td>10.0</td>\n",
       "      <td>Jetzt hat wohl Alcatell gedacht ,sie machen wa...</td>\n",
       "      <td>michaelawr</td>\n",
       "      <td>Alcatel Club Plus Handy</td>\n",
       "    </tr>\n",
       "    <tr>\n",
       "      <th>1415131</th>\n",
       "      <td>/cellphones/alcatel-ot-club_1187/</td>\n",
       "      <td>5/1/2000</td>\n",
       "      <td>de</td>\n",
       "      <td>de</td>\n",
       "      <td>Ciao</td>\n",
       "      <td>ciao.de</td>\n",
       "      <td>8.0</td>\n",
       "      <td>10.0</td>\n",
       "      <td>Ich bin seit 2 Jahren (stolzer) Besitzer eines...</td>\n",
       "      <td>claudia0815</td>\n",
       "      <td>Alcatel Club Plus Handy</td>\n",
       "    </tr>\n",
       "    <tr>\n",
       "      <th>1415132</th>\n",
       "      <td>/cellphones/alcatel-ot-club_1187/</td>\n",
       "      <td>4/25/2000</td>\n",
       "      <td>de</td>\n",
       "      <td>de</td>\n",
       "      <td>Ciao</td>\n",
       "      <td>ciao.de</td>\n",
       "      <td>2.0</td>\n",
       "      <td>10.0</td>\n",
       "      <td>Was sich Alkatel hier wieder ausgedacht hat,sc...</td>\n",
       "      <td>michaelawr</td>\n",
       "      <td>Alcatel Club Plus Handy</td>\n",
       "    </tr>\n",
       "  </tbody>\n",
       "</table>\n",
       "<p>1415133 rows × 11 columns</p>\n",
       "</div>"
      ],
      "text/plain": [
       "                                 phone_url       date lang country  \\\n",
       "0           /cellphones/samsung-galaxy-s8/   5/2/2017   en      us   \n",
       "1           /cellphones/samsung-galaxy-s8/  4/28/2017   en      us   \n",
       "2           /cellphones/samsung-galaxy-s8/   5/4/2017   en      us   \n",
       "3           /cellphones/samsung-galaxy-s8/   5/2/2017   en      us   \n",
       "4           /cellphones/samsung-galaxy-s8/  5/11/2017   en      us   \n",
       "...                                    ...        ...  ...     ...   \n",
       "1415128  /cellphones/alcatel-ot-club_1187/  5/12/2000   de      de   \n",
       "1415129  /cellphones/alcatel-ot-club_1187/  5/11/2000   de      de   \n",
       "1415130  /cellphones/alcatel-ot-club_1187/   5/4/2000   de      de   \n",
       "1415131  /cellphones/alcatel-ot-club_1187/   5/1/2000   de      de   \n",
       "1415132  /cellphones/alcatel-ot-club_1187/  4/25/2000   de      de   \n",
       "\n",
       "                   source               domain  score  score_max  \\\n",
       "0        Verizon Wireless  verizonwireless.com   10.0       10.0   \n",
       "1             Phone Arena       phonearena.com   10.0       10.0   \n",
       "2                  Amazon           amazon.com    6.0       10.0   \n",
       "3                 Samsung          samsung.com    9.0       10.0   \n",
       "4        Verizon Wireless  verizonwireless.com    4.0       10.0   \n",
       "...                   ...                  ...    ...        ...   \n",
       "1415128              Ciao              ciao.de    2.0       10.0   \n",
       "1415129              Ciao              ciao.de   10.0       10.0   \n",
       "1415130              Ciao              ciao.de    2.0       10.0   \n",
       "1415131              Ciao              ciao.de    8.0       10.0   \n",
       "1415132              Ciao              ciao.de    2.0       10.0   \n",
       "\n",
       "                                                   extract        author  \\\n",
       "0        As a diehard Samsung fan who has had every Sam...    CarolAnn35   \n",
       "1        Love the phone. the phone is sleek and smooth ...     james0923   \n",
       "2        Adequate feel. Nice heft. Processor's still sl...      R. Craig   \n",
       "3        Never disappointed. One of the reasons I've be...   Buster2020    \n",
       "4        I've now found that i'm in a group of people t...    S Ate Mine   \n",
       "...                                                    ...           ...   \n",
       "1415128  Weil mein Onkel bei ALcatel arbeitet habe ich ...    david.paul   \n",
       "1415129  Hy Liebe Leserinnen und Leser!! Ich habe seit ...  Christiane14   \n",
       "1415130  Jetzt hat wohl Alcatell gedacht ,sie machen wa...    michaelawr   \n",
       "1415131  Ich bin seit 2 Jahren (stolzer) Besitzer eines...   claudia0815   \n",
       "1415132  Was sich Alkatel hier wieder ausgedacht hat,sc...    michaelawr   \n",
       "\n",
       "                                                   product  \n",
       "0                                        Samsung Galaxy S8  \n",
       "1                                        Samsung Galaxy S8  \n",
       "2        Samsung Galaxy S8 (64GB) G950U 5.8\" 4G LTE Unl...  \n",
       "3                            Samsung Galaxy S8 64GB (AT&T)  \n",
       "4                                        Samsung Galaxy S8  \n",
       "...                                                    ...  \n",
       "1415128                            Alcatel Club Plus Handy  \n",
       "1415129                            Alcatel Club Plus Handy  \n",
       "1415130                            Alcatel Club Plus Handy  \n",
       "1415131                            Alcatel Club Plus Handy  \n",
       "1415132                            Alcatel Club Plus Handy  \n",
       "\n",
       "[1415133 rows x 11 columns]"
      ]
     },
     "execution_count": 9,
     "metadata": {},
     "output_type": "execute_result"
    }
   ],
   "source": [
    "smartph_data"
   ]
  },
  {
   "cell_type": "code",
   "execution_count": 10,
   "metadata": {},
   "outputs": [
    {
     "data": {
      "text/plain": [
       "phone_url        0\n",
       "date             0\n",
       "lang             0\n",
       "country          0\n",
       "source           0\n",
       "domain           0\n",
       "score        63489\n",
       "score_max    63489\n",
       "extract      19361\n",
       "author       63202\n",
       "product          1\n",
       "dtype: int64"
      ]
     },
     "execution_count": 10,
     "metadata": {},
     "output_type": "execute_result"
    }
   ],
   "source": [
    "# Identifing the null values\n",
    "\n",
    "smartph_data.isnull().sum()"
   ]
  },
  {
   "cell_type": "code",
   "execution_count": 11,
   "metadata": {},
   "outputs": [],
   "source": [
    "# Replacing the null values with the mean\n",
    "\n",
    "smartph_data['score'].fillna((smartph_data['score'].mean()),inplace=True)\n",
    "smartph_data['score_max'].fillna((smartph_data['score_max'].mean()),inplace=True)\n",
    "smartph_data['product'].fillna(np.nan, inplace=True)"
   ]
  },
  {
   "cell_type": "code",
   "execution_count": 12,
   "metadata": {},
   "outputs": [],
   "source": [
    "# Removing the duplicate values\n",
    "\n",
    "smartph_data.drop_duplicates(inplace=True)"
   ]
  },
  {
   "cell_type": "code",
   "execution_count": 13,
   "metadata": {},
   "outputs": [],
   "source": [
    "# Selecting 1000000 data randomly\n",
    "\n",
    "smartph_data_copy = smartph_data.sample(n=1000000,random_state=612)"
   ]
  },
  {
   "cell_type": "code",
   "execution_count": 14,
   "metadata": {},
   "outputs": [
    {
     "name": "stdout",
     "output_type": "stream",
     "text": [
      "<class 'pandas.core.frame.DataFrame'>\n",
      "Int64Index: 1000000 entries, 430175 to 92037\n",
      "Data columns (total 11 columns):\n",
      " #   Column     Non-Null Count    Dtype  \n",
      "---  ------     --------------    -----  \n",
      " 0   phone_url  1000000 non-null  object \n",
      " 1   date       1000000 non-null  object \n",
      " 2   lang       1000000 non-null  object \n",
      " 3   country    1000000 non-null  object \n",
      " 4   source     1000000 non-null  object \n",
      " 5   domain     1000000 non-null  object \n",
      " 6   score      1000000 non-null  float64\n",
      " 7   score_max  1000000 non-null  float64\n",
      " 8   extract    986449 non-null   object \n",
      " 9   author     956191 non-null   object \n",
      " 10  product    999999 non-null   object \n",
      "dtypes: float64(2), object(9)\n",
      "memory usage: 91.6+ MB\n"
     ]
    }
   ],
   "source": [
    "smartph_data_copy.info()"
   ]
  },
  {
   "cell_type": "code",
   "execution_count": 15,
   "metadata": {},
   "outputs": [
    {
     "data": {
      "text/plain": [
       "phone_url        0\n",
       "date             0\n",
       "lang             0\n",
       "country          0\n",
       "source           0\n",
       "domain           0\n",
       "score            0\n",
       "score_max        0\n",
       "extract      13551\n",
       "author       43809\n",
       "product          1\n",
       "dtype: int64"
      ]
     },
     "execution_count": 15,
     "metadata": {},
     "output_type": "execute_result"
    }
   ],
   "source": [
    "smartph_data_copy.isna().sum()"
   ]
  },
  {
   "cell_type": "code",
   "execution_count": 16,
   "metadata": {},
   "outputs": [],
   "source": [
    "# Dropping the irrelevant columns\n",
    "\n",
    "smartph_data_copy.drop(['phone_url','date','lang','country','source','domain','extract'],axis=1,inplace=True)"
   ]
  },
  {
   "cell_type": "code",
   "execution_count": 17,
   "metadata": {},
   "outputs": [],
   "source": [
    "smartph_data_copy.dropna(inplace=True)"
   ]
  },
  {
   "cell_type": "code",
   "execution_count": 18,
   "metadata": {},
   "outputs": [
    {
     "data": {
      "text/plain": [
       "author\n",
       "Amazon Customer        54542\n",
       "Cliente Amazon         13661\n",
       "e-bit                   5959\n",
       "Client d'Amazon         5495\n",
       "Amazon Kunde            3283\n",
       "                       ...  \n",
       "abishek kalaiselvan        1\n",
       "abisheridee                1\n",
       "abitawheat                 1\n",
       "abitoy                     1\n",
       " efef                      1\n",
       "Name: score, Length: 597173, dtype: int64"
      ]
     },
     "execution_count": 18,
     "metadata": {},
     "output_type": "execute_result"
    }
   ],
   "source": [
    "# Users respective to there number of ratings\n",
    "\n",
    "smrtphn_df1=smartph_data_copy.groupby('author')['score'].count().sort_values(ascending=False)\n",
    "smrtphn_df1"
   ]
  },
  {
   "cell_type": "code",
   "execution_count": 19,
   "metadata": {},
   "outputs": [
    {
     "name": "stdout",
     "output_type": "stream",
     "text": [
      "660\n"
     ]
    }
   ],
   "source": [
    "# No. of users who have given more than 50 reviews\n",
    "\n",
    "print(sum(smrtphn_df1 >= 50))"
   ]
  },
  {
   "cell_type": "code",
   "execution_count": 20,
   "metadata": {},
   "outputs": [
    {
     "data": {
      "text/plain": [
       "product\n",
       "Lenovo Vibe K4 Note (White,16GB)                                                                                              3709\n",
       "Lenovo Vibe K4 Note (Black, 16GB)                                                                                             3083\n",
       "OnePlus 3 (Graphite, 64 GB)                                                                                                   2890\n",
       "OnePlus 3 (Soft Gold, 64 GB)                                                                                                  2521\n",
       "Samsung Galaxy Express I8730                                                                                                  1895\n",
       "                                                                                                                              ... \n",
       "Nexus 4 LG-E960 -16GB- Black (New Boxed, Unlocked) Smartphone Android 4.2                                                        1\n",
       "Nexus 5                                                                                                                          1\n",
       "Nexus 5x 16GB LG Nexus 5x 16GB Svart                                                                                             1\n",
       "Nexus 5x Black 16GB                                                                                                              1\n",
       "'Sony Xperia X (F5122) â White â Dual Sim (Google Android 6.0.1, 5 Display, 2 x CORTEX A72 1.8 GHz + 4 x cortex-a53...       1\n",
       "Name: score, Length: 55556, dtype: int64"
      ]
     },
     "execution_count": 20,
     "metadata": {},
     "output_type": "execute_result"
    }
   ],
   "source": [
    "smrtphn_df2 = smartph_data_copy.groupby('product')['score'].count().sort_values(ascending=False)\n",
    "smrtphn_df2"
   ]
  },
  {
   "cell_type": "code",
   "execution_count": 21,
   "metadata": {},
   "outputs": [
    {
     "name": "stdout",
     "output_type": "stream",
     "text": [
      "4211\n"
     ]
    }
   ],
   "source": [
    "# No. of products which has more than 50 reviews\n",
    "\n",
    "print(sum(smrtphn_df2 >= 50))"
   ]
  },
  {
   "cell_type": "code",
   "execution_count": 22,
   "metadata": {},
   "outputs": [],
   "source": [
    "smrtphn_df3= smartph_data_copy.groupby(\"product\").filter(lambda x:x['score'].count() >=50)"
   ]
  },
  {
   "cell_type": "code",
   "execution_count": 23,
   "metadata": {},
   "outputs": [
    {
     "data": {
      "text/html": [
       "<div>\n",
       "<style scoped>\n",
       "    .dataframe tbody tr th:only-of-type {\n",
       "        vertical-align: middle;\n",
       "    }\n",
       "\n",
       "    .dataframe tbody tr th {\n",
       "        vertical-align: top;\n",
       "    }\n",
       "\n",
       "    .dataframe thead th {\n",
       "        text-align: right;\n",
       "    }\n",
       "</style>\n",
       "<table border=\"1\" class=\"dataframe\">\n",
       "  <thead>\n",
       "    <tr style=\"text-align: right;\">\n",
       "      <th></th>\n",
       "      <th>score</th>\n",
       "      <th>score_max</th>\n",
       "      <th>author</th>\n",
       "      <th>product</th>\n",
       "    </tr>\n",
       "  </thead>\n",
       "  <tbody>\n",
       "    <tr>\n",
       "      <th>430175</th>\n",
       "      <td>8.0</td>\n",
       "      <td>10.0</td>\n",
       "      <td>Vinod Kumar Chengespur</td>\n",
       "      <td>Lenovo Vibe K4 Note (White,16GB)</td>\n",
       "    </tr>\n",
       "    <tr>\n",
       "      <th>587153</th>\n",
       "      <td>2.0</td>\n",
       "      <td>10.0</td>\n",
       "      <td>Sharon</td>\n",
       "      <td>HTC Desire 816 Black (Virgin mobile) - 5.5 inc...</td>\n",
       "    </tr>\n",
       "    <tr>\n",
       "      <th>636378</th>\n",
       "      <td>2.0</td>\n",
       "      <td>10.0</td>\n",
       "      <td>Jomine Jose</td>\n",
       "      <td>Lava Iris X5 (Black)</td>\n",
       "    </tr>\n",
       "    <tr>\n",
       "      <th>230845</th>\n",
       "      <td>8.0</td>\n",
       "      <td>10.0</td>\n",
       "      <td>Cliente Amazon</td>\n",
       "      <td>Microsoft Telefonia Lumia 950 XL Smartphone, 3...</td>\n",
       "    </tr>\n",
       "    <tr>\n",
       "      <th>1290191</th>\n",
       "      <td>8.0</td>\n",
       "      <td>10.0</td>\n",
       "      <td>Hjkage</td>\n",
       "      <td>Nokia 5610 XpressMusic</td>\n",
       "    </tr>\n",
       "    <tr>\n",
       "      <th>...</th>\n",
       "      <td>...</td>\n",
       "      <td>...</td>\n",
       "      <td>...</td>\n",
       "      <td>...</td>\n",
       "    </tr>\n",
       "    <tr>\n",
       "      <th>43605</th>\n",
       "      <td>10.0</td>\n",
       "      <td>10.0</td>\n",
       "      <td>LeeAB</td>\n",
       "      <td>Apple iPhone 6s</td>\n",
       "    </tr>\n",
       "    <tr>\n",
       "      <th>954684</th>\n",
       "      <td>10.0</td>\n",
       "      <td>10.0</td>\n",
       "      <td>LuisMu</td>\n",
       "      <td>Sony Xperia Tipo - Smartphone libre (pantalla ...</td>\n",
       "    </tr>\n",
       "    <tr>\n",
       "      <th>1053936</th>\n",
       "      <td>10.0</td>\n",
       "      <td>10.0</td>\n",
       "      <td>loca14325</td>\n",
       "      <td>HTC Touch HD2</td>\n",
       "    </tr>\n",
       "    <tr>\n",
       "      <th>1002309</th>\n",
       "      <td>10.0</td>\n",
       "      <td>10.0</td>\n",
       "      <td>Monalisa</td>\n",
       "      <td>Samsung Galaxy Y</td>\n",
       "    </tr>\n",
       "    <tr>\n",
       "      <th>243653</th>\n",
       "      <td>10.0</td>\n",
       "      <td>10.0</td>\n",
       "      <td>e-bit</td>\n",
       "      <td>Smartphone Motorola Moto X 2Âª GeraÃ§Ã£o XT109...</td>\n",
       "    </tr>\n",
       "  </tbody>\n",
       "</table>\n",
       "<p>528214 rows × 4 columns</p>\n",
       "</div>"
      ],
      "text/plain": [
       "         score  score_max                  author  \\\n",
       "430175     8.0       10.0  Vinod Kumar Chengespur   \n",
       "587153     2.0       10.0                  Sharon   \n",
       "636378     2.0       10.0             Jomine Jose   \n",
       "230845     8.0       10.0          Cliente Amazon   \n",
       "1290191    8.0       10.0                  Hjkage   \n",
       "...        ...        ...                     ...   \n",
       "43605     10.0       10.0                   LeeAB   \n",
       "954684    10.0       10.0                  LuisMu   \n",
       "1053936   10.0       10.0               loca14325   \n",
       "1002309   10.0       10.0                Monalisa   \n",
       "243653    10.0       10.0                   e-bit   \n",
       "\n",
       "                                                   product  \n",
       "430175                    Lenovo Vibe K4 Note (White,16GB)  \n",
       "587153   HTC Desire 816 Black (Virgin mobile) - 5.5 inc...  \n",
       "636378                                Lava Iris X5 (Black)  \n",
       "230845   Microsoft Telefonia Lumia 950 XL Smartphone, 3...  \n",
       "1290191                             Nokia 5610 XpressMusic  \n",
       "...                                                    ...  \n",
       "43605                                      Apple iPhone 6s  \n",
       "954684   Sony Xperia Tipo - Smartphone libre (pantalla ...  \n",
       "1053936                                      HTC Touch HD2  \n",
       "1002309                                   Samsung Galaxy Y  \n",
       "243653   Smartphone Motorola Moto X 2Âª GeraÃ§Ã£o XT109...  \n",
       "\n",
       "[528214 rows x 4 columns]"
      ]
     },
     "execution_count": 23,
     "metadata": {},
     "output_type": "execute_result"
    }
   ],
   "source": [
    "smrtphn_df3"
   ]
  },
  {
   "cell_type": "code",
   "execution_count": 24,
   "metadata": {},
   "outputs": [],
   "source": [
    "smrtphn_df3=smrtphn_df3.groupby(\"author\").filter(lambda x:x['score'].count() >=50)"
   ]
  },
  {
   "cell_type": "code",
   "execution_count": 25,
   "metadata": {},
   "outputs": [
    {
     "name": "stdout",
     "output_type": "stream",
     "text": [
      "<class 'pandas.core.frame.DataFrame'>\n",
      "Int64Index: 90101 entries, 230845 to 243653\n",
      "Data columns (total 4 columns):\n",
      " #   Column     Non-Null Count  Dtype  \n",
      "---  ------     --------------  -----  \n",
      " 0   score      90101 non-null  float64\n",
      " 1   score_max  90101 non-null  float64\n",
      " 2   author     90101 non-null  object \n",
      " 3   product    90101 non-null  object \n",
      "dtypes: float64(2), object(2)\n",
      "memory usage: 3.4+ MB\n"
     ]
    }
   ],
   "source": [
    "smrtphn_df3.info()"
   ]
  },
  {
   "cell_type": "code",
   "execution_count": 26,
   "metadata": {},
   "outputs": [
    {
     "data": {
      "text/html": [
       "<div>\n",
       "<style scoped>\n",
       "    .dataframe tbody tr th:only-of-type {\n",
       "        vertical-align: middle;\n",
       "    }\n",
       "\n",
       "    .dataframe tbody tr th {\n",
       "        vertical-align: top;\n",
       "    }\n",
       "\n",
       "    .dataframe thead th {\n",
       "        text-align: right;\n",
       "    }\n",
       "</style>\n",
       "<table border=\"1\" class=\"dataframe\">\n",
       "  <thead>\n",
       "    <tr style=\"text-align: right;\">\n",
       "      <th></th>\n",
       "      <th>score</th>\n",
       "      <th>score_max</th>\n",
       "    </tr>\n",
       "  </thead>\n",
       "  <tbody>\n",
       "    <tr>\n",
       "      <th>count</th>\n",
       "      <td>90101.000000</td>\n",
       "      <td>90101.0</td>\n",
       "    </tr>\n",
       "    <tr>\n",
       "      <th>mean</th>\n",
       "      <td>7.781238</td>\n",
       "      <td>10.0</td>\n",
       "    </tr>\n",
       "    <tr>\n",
       "      <th>std</th>\n",
       "      <td>2.808221</td>\n",
       "      <td>0.0</td>\n",
       "    </tr>\n",
       "    <tr>\n",
       "      <th>min</th>\n",
       "      <td>1.000000</td>\n",
       "      <td>10.0</td>\n",
       "    </tr>\n",
       "    <tr>\n",
       "      <th>25%</th>\n",
       "      <td>6.000000</td>\n",
       "      <td>10.0</td>\n",
       "    </tr>\n",
       "    <tr>\n",
       "      <th>50%</th>\n",
       "      <td>8.008083</td>\n",
       "      <td>10.0</td>\n",
       "    </tr>\n",
       "    <tr>\n",
       "      <th>75%</th>\n",
       "      <td>10.000000</td>\n",
       "      <td>10.0</td>\n",
       "    </tr>\n",
       "    <tr>\n",
       "      <th>max</th>\n",
       "      <td>10.000000</td>\n",
       "      <td>10.0</td>\n",
       "    </tr>\n",
       "  </tbody>\n",
       "</table>\n",
       "</div>"
      ],
      "text/plain": [
       "              score  score_max\n",
       "count  90101.000000    90101.0\n",
       "mean       7.781238       10.0\n",
       "std        2.808221        0.0\n",
       "min        1.000000       10.0\n",
       "25%        6.000000       10.0\n",
       "50%        8.008083       10.0\n",
       "75%       10.000000       10.0\n",
       "max       10.000000       10.0"
      ]
     },
     "execution_count": 26,
     "metadata": {},
     "output_type": "execute_result"
    }
   ],
   "source": [
    "smrtphn_df3.describe()"
   ]
  },
  {
   "cell_type": "code",
   "execution_count": 27,
   "metadata": {},
   "outputs": [],
   "source": [
    "smrtphn_df3.drop(['score_max'],axis=1,inplace=True)"
   ]
  },
  {
   "cell_type": "markdown",
   "metadata": {},
   "source": [
    "###### Popularity based for top 5 phones"
   ]
  },
  {
   "cell_type": "code",
   "execution_count": 28,
   "metadata": {},
   "outputs": [],
   "source": [
    "ratings_mean_count = pd.DataFrame(smartph_data_copy.groupby('product')['score'].mean())\n",
    "\n",
    "ratings_mean_count['score_counts'] = pd.DataFrame(smartph_data_copy.groupby('product')['score'].count()) "
   ]
  },
  {
   "cell_type": "code",
   "execution_count": 29,
   "metadata": {},
   "outputs": [
    {
     "data": {
      "text/html": [
       "<div>\n",
       "<style scoped>\n",
       "    .dataframe tbody tr th:only-of-type {\n",
       "        vertical-align: middle;\n",
       "    }\n",
       "\n",
       "    .dataframe tbody tr th {\n",
       "        vertical-align: top;\n",
       "    }\n",
       "\n",
       "    .dataframe thead th {\n",
       "        text-align: right;\n",
       "    }\n",
       "</style>\n",
       "<table border=\"1\" class=\"dataframe\">\n",
       "  <thead>\n",
       "    <tr style=\"text-align: right;\">\n",
       "      <th></th>\n",
       "      <th>score</th>\n",
       "      <th>score_counts</th>\n",
       "    </tr>\n",
       "    <tr>\n",
       "      <th>product</th>\n",
       "      <th></th>\n",
       "      <th></th>\n",
       "    </tr>\n",
       "  </thead>\n",
       "  <tbody>\n",
       "    <tr>\n",
       "      <th>'Sony Xperia X (F5122) â White â Dual Sim (Google Android 6.0.1, 5 Display, 2 x CORTEX A72 1.8 GHz + 4 x cortex-a53...</th>\n",
       "      <td>10.000000</td>\n",
       "      <td>1</td>\n",
       "    </tr>\n",
       "    <tr>\n",
       "      <th>'Sony Xperia X (F5122) â rosa â Dual Sim (Google Android 6.0.1, 5 Display, 2 x CORTEX A72 1.8 GHz + 4 x cortex-a53...</th>\n",
       "      <td>10.000000</td>\n",
       "      <td>1</td>\n",
       "    </tr>\n",
       "    <tr>\n",
       "      <th>(CUBOT) GT88 5.5\" qHD 1.3GHz MTK6572 2-Core Android 4.2.2 3G Phone 8MP CAM 512MB RAM 4GB ROM</th>\n",
       "      <td>8.000000</td>\n",
       "      <td>1</td>\n",
       "    </tr>\n",
       "    <tr>\n",
       "      <th>(DG300 Versione Aggiornata)5'' DOOGEE VOYAGER2 DG310 Dual Flashlights IPS Screen 3G Smartphone Android 4.4 MTK6582 1.3GHz Quad Core Telefono Cellulare Dual SIM 8G ROM OTG OTA GPS WIFI, BIANCO</th>\n",
       "      <td>7.388889</td>\n",
       "      <td>36</td>\n",
       "    </tr>\n",
       "    <tr>\n",
       "      <th>(Part 2) Lenovo VIBE X2</th>\n",
       "      <td>8.008083</td>\n",
       "      <td>1</td>\n",
       "    </tr>\n",
       "  </tbody>\n",
       "</table>\n",
       "</div>"
      ],
      "text/plain": [
       "                                                        score  score_counts\n",
       "product                                                                    \n",
       "'Sony Xperia X (F5122) â White â Dual Sim (...  10.000000             1\n",
       "'Sony Xperia X (F5122) â rosa â Dual Sim (G...  10.000000             1\n",
       "(CUBOT) GT88 5.5\" qHD 1.3GHz MTK6572 2-Core And...   8.000000             1\n",
       "(DG300 Versione Aggiornata)5'' DOOGEE VOYAGER2 ...   7.388889            36\n",
       "(Part 2) Lenovo VIBE X2                              8.008083             1"
      ]
     },
     "execution_count": 29,
     "metadata": {},
     "output_type": "execute_result"
    }
   ],
   "source": [
    "ratings_mean_count.head()"
   ]
  },
  {
   "cell_type": "code",
   "execution_count": 30,
   "metadata": {},
   "outputs": [],
   "source": [
    "smrtphn_df3=smrtphn_df3[['author','product','score']]"
   ]
  },
  {
   "cell_type": "code",
   "execution_count": 31,
   "metadata": {},
   "outputs": [
    {
     "data": {
      "text/html": [
       "<div>\n",
       "<style scoped>\n",
       "    .dataframe tbody tr th:only-of-type {\n",
       "        vertical-align: middle;\n",
       "    }\n",
       "\n",
       "    .dataframe tbody tr th {\n",
       "        vertical-align: top;\n",
       "    }\n",
       "\n",
       "    .dataframe thead th {\n",
       "        text-align: right;\n",
       "    }\n",
       "</style>\n",
       "<table border=\"1\" class=\"dataframe\">\n",
       "  <thead>\n",
       "    <tr style=\"text-align: right;\">\n",
       "      <th></th>\n",
       "      <th>author</th>\n",
       "      <th>product</th>\n",
       "      <th>score</th>\n",
       "    </tr>\n",
       "  </thead>\n",
       "  <tbody>\n",
       "    <tr>\n",
       "      <th>230845</th>\n",
       "      <td>Cliente Amazon</td>\n",
       "      <td>Microsoft Telefonia Lumia 950 XL Smartphone, 3...</td>\n",
       "      <td>8.0</td>\n",
       "    </tr>\n",
       "    <tr>\n",
       "      <th>505343</th>\n",
       "      <td>Amazon Customer</td>\n",
       "      <td>Nokia Lumia 635 8GB Unlocked GSM 4G LTE Window...</td>\n",
       "      <td>2.0</td>\n",
       "    </tr>\n",
       "    <tr>\n",
       "      <th>766631</th>\n",
       "      <td>Amazon Customer</td>\n",
       "      <td>Lenovo Used Lenovo Zuk Z1 (Space Grey, 64GB)</td>\n",
       "      <td>2.0</td>\n",
       "    </tr>\n",
       "    <tr>\n",
       "      <th>1244089</th>\n",
       "      <td>Anonymous</td>\n",
       "      <td>Samsung Rant</td>\n",
       "      <td>10.0</td>\n",
       "    </tr>\n",
       "    <tr>\n",
       "      <th>119096</th>\n",
       "      <td>Amazon Customer</td>\n",
       "      <td>OnePlus 3T (Gunmetal, 6GB RAM + 64GB memory)</td>\n",
       "      <td>10.0</td>\n",
       "    </tr>\n",
       "    <tr>\n",
       "      <th>...</th>\n",
       "      <td>...</td>\n",
       "      <td>...</td>\n",
       "      <td>...</td>\n",
       "    </tr>\n",
       "    <tr>\n",
       "      <th>463857</th>\n",
       "      <td>Amazon Kunde</td>\n",
       "      <td>Samsung Galaxy S5 mini Smartphone (4,5 Zoll (1...</td>\n",
       "      <td>6.0</td>\n",
       "    </tr>\n",
       "    <tr>\n",
       "      <th>1076134</th>\n",
       "      <td>e-bit</td>\n",
       "      <td>Celular Motorola EX115</td>\n",
       "      <td>6.0</td>\n",
       "    </tr>\n",
       "    <tr>\n",
       "      <th>161619</th>\n",
       "      <td>ÐÐ¼Ð¸ÑÑÐ¸Ð¹</td>\n",
       "      <td>Samsung Galaxy A3 (2016)</td>\n",
       "      <td>8.0</td>\n",
       "    </tr>\n",
       "    <tr>\n",
       "      <th>499648</th>\n",
       "      <td>Amazon Customer</td>\n",
       "      <td>Lenovo PHAB Plus Tablet (6.8 inch, 32GB, Wi-Fi...</td>\n",
       "      <td>2.0</td>\n",
       "    </tr>\n",
       "    <tr>\n",
       "      <th>243653</th>\n",
       "      <td>e-bit</td>\n",
       "      <td>Smartphone Motorola Moto X 2Âª GeraÃ§Ã£o XT109...</td>\n",
       "      <td>10.0</td>\n",
       "    </tr>\n",
       "  </tbody>\n",
       "</table>\n",
       "<p>90101 rows × 3 columns</p>\n",
       "</div>"
      ],
      "text/plain": [
       "                  author                                            product  \\\n",
       "230845    Cliente Amazon  Microsoft Telefonia Lumia 950 XL Smartphone, 3...   \n",
       "505343   Amazon Customer  Nokia Lumia 635 8GB Unlocked GSM 4G LTE Window...   \n",
       "766631   Amazon Customer       Lenovo Used Lenovo Zuk Z1 (Space Grey, 64GB)   \n",
       "1244089        Anonymous                                       Samsung Rant   \n",
       "119096   Amazon Customer       OnePlus 3T (Gunmetal, 6GB RAM + 64GB memory)   \n",
       "...                  ...                                                ...   \n",
       "463857      Amazon Kunde  Samsung Galaxy S5 mini Smartphone (4,5 Zoll (1...   \n",
       "1076134            e-bit                             Celular Motorola EX115   \n",
       "161619    ÐÐ¼Ð¸ÑÑÐ¸Ð¹                           Samsung Galaxy A3 (2016)   \n",
       "499648   Amazon Customer  Lenovo PHAB Plus Tablet (6.8 inch, 32GB, Wi-Fi...   \n",
       "243653             e-bit  Smartphone Motorola Moto X 2Âª GeraÃ§Ã£o XT109...   \n",
       "\n",
       "         score  \n",
       "230845     8.0  \n",
       "505343     2.0  \n",
       "766631     2.0  \n",
       "1244089   10.0  \n",
       "119096    10.0  \n",
       "...        ...  \n",
       "463857     6.0  \n",
       "1076134    6.0  \n",
       "161619     8.0  \n",
       "499648     2.0  \n",
       "243653    10.0  \n",
       "\n",
       "[90101 rows x 3 columns]"
      ]
     },
     "execution_count": 31,
     "metadata": {},
     "output_type": "execute_result"
    }
   ],
   "source": [
    "smrtphn_df3"
   ]
  },
  {
   "cell_type": "markdown",
   "metadata": {},
   "source": [
    "######  collaborative filtering model using kNNWithMeans"
   ]
  },
  {
   "cell_type": "code",
   "execution_count": 32,
   "metadata": {},
   "outputs": [],
   "source": [
    "reader = Reader(rating_scale=(1, 5))\n",
    "data = Dataset.load_from_df(smrtphn_df3,reader)"
   ]
  },
  {
   "cell_type": "code",
   "execution_count": 33,
   "metadata": {},
   "outputs": [],
   "source": [
    "trainset, testset = train_test_split(data, test_size=0.3,random_state=10)"
   ]
  },
  {
   "cell_type": "code",
   "execution_count": 34,
   "metadata": {},
   "outputs": [
    {
     "name": "stdout",
     "output_type": "stream",
     "text": [
      "Estimating biases using als...\n",
      "Computing the pearson_baseline similarity matrix...\n",
      "Done computing similarity matrix.\n"
     ]
    },
    {
     "data": {
      "text/plain": [
       "<surprise.prediction_algorithms.knns.KNNWithMeans at 0x1a630fc5310>"
      ]
     },
     "execution_count": 34,
     "metadata": {},
     "output_type": "execute_result"
    }
   ],
   "source": [
    "algo = KNNWithMeans(k=5, sim_options={'name': 'pearson_baseline', 'user_based': False})\n",
    "algo.fit(trainset)"
   ]
  },
  {
   "cell_type": "code",
   "execution_count": 35,
   "metadata": {},
   "outputs": [],
   "source": [
    "test_pred = algo.test(testset)"
   ]
  },
  {
   "cell_type": "code",
   "execution_count": 36,
   "metadata": {},
   "outputs": [
    {
     "name": "stdout",
     "output_type": "stream",
     "text": [
      "Item-based Model : Test Set\n",
      "RMSE: 3.9929\n"
     ]
    },
    {
     "data": {
      "text/plain": [
       "3.9928735985898665"
      ]
     },
     "execution_count": 36,
     "metadata": {},
     "output_type": "execute_result"
    }
   ],
   "source": [
    "print(\"Item-based Model : Test Set\")\n",
    "accuracy.rmse(test_pred, verbose=True)"
   ]
  },
  {
   "cell_type": "code",
   "execution_count": null,
   "metadata": {},
   "outputs": [],
   "source": []
  },
  {
   "cell_type": "code",
   "execution_count": 37,
   "metadata": {},
   "outputs": [],
   "source": [
    "new_data=smrtphn_df3.head(5000)\n",
    "ratings_matrix = new_data.pivot_table(values='score', index='author', columns='product', fill_value=0)"
   ]
  },
  {
   "cell_type": "code",
   "execution_count": 38,
   "metadata": {},
   "outputs": [
    {
     "data": {
      "text/plain": [
       "(270, 1703)"
      ]
     },
     "execution_count": 38,
     "metadata": {},
     "output_type": "execute_result"
    }
   ],
   "source": [
    "ratings_matrix.shape"
   ]
  },
  {
   "cell_type": "code",
   "execution_count": 39,
   "metadata": {},
   "outputs": [
    {
     "data": {
      "text/html": [
       "<div>\n",
       "<style scoped>\n",
       "    .dataframe tbody tr th:only-of-type {\n",
       "        vertical-align: middle;\n",
       "    }\n",
       "\n",
       "    .dataframe tbody tr th {\n",
       "        vertical-align: top;\n",
       "    }\n",
       "\n",
       "    .dataframe thead th {\n",
       "        text-align: right;\n",
       "    }\n",
       "</style>\n",
       "<table border=\"1\" class=\"dataframe\">\n",
       "  <thead>\n",
       "    <tr style=\"text-align: right;\">\n",
       "      <th>author</th>\n",
       "      <th>#</th>\n",
       "      <th>????????</th>\n",
       "      <th>??????????</th>\n",
       "      <th>????????????</th>\n",
       "      <th>??????????????</th>\n",
       "      <th>?????????????? ??????????????</th>\n",
       "      <th>?????????????????</th>\n",
       "      <th>???????????</th>\n",
       "      <th>Aksisey</th>\n",
       "      <th>Alan</th>\n",
       "      <th>...</th>\n",
       "      <th>ÐÐ»ÐµÐ³</th>\n",
       "      <th>ÐÐ»ÑÐ³Ð°</th>\n",
       "      <th>ÐÐ°Ð²ÐµÐ»</th>\n",
       "      <th>Ð Ð¾Ð¼Ð°Ð½</th>\n",
       "      <th>Ð ÑÑÐ»Ð°Ð½</th>\n",
       "      <th>Ð¡Ð²ÐµÑÐ»Ð°Ð½Ð°</th>\n",
       "      <th>Ð¡ÐµÑÐ³ÐµÐ¹</th>\n",
       "      <th>Ð¢Ð°ÑÑÑÐ½Ð°</th>\n",
       "      <th>Ð®Ð»Ð¸Ñ</th>\n",
       "      <th>Ð®ÑÐ¸Ð¹</th>\n",
       "    </tr>\n",
       "    <tr>\n",
       "      <th>product</th>\n",
       "      <th></th>\n",
       "      <th></th>\n",
       "      <th></th>\n",
       "      <th></th>\n",
       "      <th></th>\n",
       "      <th></th>\n",
       "      <th></th>\n",
       "      <th></th>\n",
       "      <th></th>\n",
       "      <th></th>\n",
       "      <th></th>\n",
       "      <th></th>\n",
       "      <th></th>\n",
       "      <th></th>\n",
       "      <th></th>\n",
       "      <th></th>\n",
       "      <th></th>\n",
       "      <th></th>\n",
       "      <th></th>\n",
       "      <th></th>\n",
       "      <th></th>\n",
       "    </tr>\n",
       "  </thead>\n",
       "  <tbody>\n",
       "    <tr>\n",
       "      <th>AICEK Coque ASUS ZenFone 3 ZE520KL, AICEK Etui Silicone Gel ASUS ZenFone 3 Housse Antichoc ZenFone 3 Transparente Souple Coque de Protection pour ASUS ZenFone 3(5.2 Pouces)</th>\n",
       "      <td>0.0</td>\n",
       "      <td>0.0</td>\n",
       "      <td>0.0</td>\n",
       "      <td>0.0</td>\n",
       "      <td>0.0</td>\n",
       "      <td>0.0</td>\n",
       "      <td>0.0</td>\n",
       "      <td>0.0</td>\n",
       "      <td>0.0</td>\n",
       "      <td>0.0</td>\n",
       "      <td>...</td>\n",
       "      <td>0.0</td>\n",
       "      <td>0.0</td>\n",
       "      <td>0.0</td>\n",
       "      <td>0.0</td>\n",
       "      <td>0.0</td>\n",
       "      <td>0.0</td>\n",
       "      <td>0.0</td>\n",
       "      <td>0.0</td>\n",
       "      <td>0.0</td>\n",
       "      <td>0.0</td>\n",
       "    </tr>\n",
       "    <tr>\n",
       "      <th>AICEK Coque Samsung Galaxy A3 2016, AICEK Etui Silicone Gel Samsung Galaxy A3 2016 (A310F) Housse Antichoc Samsung A3 Transparente Souple Coque De Protection Pour Samsung Galaxy A3 2016 (4,7 pouces)</th>\n",
       "      <td>0.0</td>\n",
       "      <td>0.0</td>\n",
       "      <td>0.0</td>\n",
       "      <td>0.0</td>\n",
       "      <td>0.0</td>\n",
       "      <td>0.0</td>\n",
       "      <td>0.0</td>\n",
       "      <td>0.0</td>\n",
       "      <td>0.0</td>\n",
       "      <td>0.0</td>\n",
       "      <td>...</td>\n",
       "      <td>0.0</td>\n",
       "      <td>0.0</td>\n",
       "      <td>0.0</td>\n",
       "      <td>0.0</td>\n",
       "      <td>0.0</td>\n",
       "      <td>0.0</td>\n",
       "      <td>0.0</td>\n",
       "      <td>0.0</td>\n",
       "      <td>0.0</td>\n",
       "      <td>0.0</td>\n",
       "    </tr>\n",
       "    <tr>\n",
       "      <th>APPLE iPhone 6s Plus - 128 GB, Rose Gold</th>\n",
       "      <td>0.0</td>\n",
       "      <td>0.0</td>\n",
       "      <td>0.0</td>\n",
       "      <td>0.0</td>\n",
       "      <td>0.0</td>\n",
       "      <td>0.0</td>\n",
       "      <td>0.0</td>\n",
       "      <td>0.0</td>\n",
       "      <td>0.0</td>\n",
       "      <td>0.0</td>\n",
       "      <td>...</td>\n",
       "      <td>0.0</td>\n",
       "      <td>0.0</td>\n",
       "      <td>0.0</td>\n",
       "      <td>0.0</td>\n",
       "      <td>0.0</td>\n",
       "      <td>0.0</td>\n",
       "      <td>0.0</td>\n",
       "      <td>0.0</td>\n",
       "      <td>0.0</td>\n",
       "      <td>0.0</td>\n",
       "    </tr>\n",
       "    <tr>\n",
       "      <th>APPLE iPhone 7 - Silver, 128 GB</th>\n",
       "      <td>0.0</td>\n",
       "      <td>0.0</td>\n",
       "      <td>0.0</td>\n",
       "      <td>0.0</td>\n",
       "      <td>0.0</td>\n",
       "      <td>0.0</td>\n",
       "      <td>0.0</td>\n",
       "      <td>0.0</td>\n",
       "      <td>0.0</td>\n",
       "      <td>0.0</td>\n",
       "      <td>...</td>\n",
       "      <td>0.0</td>\n",
       "      <td>0.0</td>\n",
       "      <td>0.0</td>\n",
       "      <td>0.0</td>\n",
       "      <td>0.0</td>\n",
       "      <td>0.0</td>\n",
       "      <td>0.0</td>\n",
       "      <td>0.0</td>\n",
       "      <td>0.0</td>\n",
       "      <td>0.0</td>\n",
       "    </tr>\n",
       "    <tr>\n",
       "      <th>APPLE iPhone 7 - Silver, 32 GB</th>\n",
       "      <td>0.0</td>\n",
       "      <td>0.0</td>\n",
       "      <td>0.0</td>\n",
       "      <td>0.0</td>\n",
       "      <td>0.0</td>\n",
       "      <td>0.0</td>\n",
       "      <td>0.0</td>\n",
       "      <td>0.0</td>\n",
       "      <td>0.0</td>\n",
       "      <td>9.0</td>\n",
       "      <td>...</td>\n",
       "      <td>0.0</td>\n",
       "      <td>0.0</td>\n",
       "      <td>0.0</td>\n",
       "      <td>0.0</td>\n",
       "      <td>0.0</td>\n",
       "      <td>0.0</td>\n",
       "      <td>0.0</td>\n",
       "      <td>0.0</td>\n",
       "      <td>0.0</td>\n",
       "      <td>0.0</td>\n",
       "    </tr>\n",
       "  </tbody>\n",
       "</table>\n",
       "<p>5 rows × 270 columns</p>\n",
       "</div>"
      ],
      "text/plain": [
       "author                                                #  ????????  ??????????  \\\n",
       "product                                                                         \n",
       "AICEK Coque ASUS ZenFone 3 ZE520KL, AICEK Etui ...  0.0       0.0         0.0   \n",
       "AICEK Coque Samsung Galaxy A3 2016, AICEK Etui ...  0.0       0.0         0.0   \n",
       "APPLE iPhone 6s Plus - 128 GB, Rose Gold            0.0       0.0         0.0   \n",
       "APPLE iPhone 7 - Silver, 128 GB                     0.0       0.0         0.0   \n",
       "APPLE iPhone 7 - Silver, 32 GB                      0.0       0.0         0.0   \n",
       "\n",
       "author                                              ????????????  \\\n",
       "product                                                            \n",
       "AICEK Coque ASUS ZenFone 3 ZE520KL, AICEK Etui ...           0.0   \n",
       "AICEK Coque Samsung Galaxy A3 2016, AICEK Etui ...           0.0   \n",
       "APPLE iPhone 6s Plus - 128 GB, Rose Gold                     0.0   \n",
       "APPLE iPhone 7 - Silver, 128 GB                              0.0   \n",
       "APPLE iPhone 7 - Silver, 32 GB                               0.0   \n",
       "\n",
       "author                                              ??????????????  \\\n",
       "product                                                              \n",
       "AICEK Coque ASUS ZenFone 3 ZE520KL, AICEK Etui ...             0.0   \n",
       "AICEK Coque Samsung Galaxy A3 2016, AICEK Etui ...             0.0   \n",
       "APPLE iPhone 6s Plus - 128 GB, Rose Gold                       0.0   \n",
       "APPLE iPhone 7 - Silver, 128 GB                                0.0   \n",
       "APPLE iPhone 7 - Silver, 32 GB                                 0.0   \n",
       "\n",
       "author                                              ?????????????? ??????????????  \\\n",
       "product                                                                             \n",
       "AICEK Coque ASUS ZenFone 3 ZE520KL, AICEK Etui ...                            0.0   \n",
       "AICEK Coque Samsung Galaxy A3 2016, AICEK Etui ...                            0.0   \n",
       "APPLE iPhone 6s Plus - 128 GB, Rose Gold                                      0.0   \n",
       "APPLE iPhone 7 - Silver, 128 GB                                               0.0   \n",
       "APPLE iPhone 7 - Silver, 32 GB                                                0.0   \n",
       "\n",
       "author                                              ?????????????????  \\\n",
       "product                                                                  \n",
       "AICEK Coque ASUS ZenFone 3 ZE520KL, AICEK Etui ...                 0.0   \n",
       "AICEK Coque Samsung Galaxy A3 2016, AICEK Etui ...                 0.0   \n",
       "APPLE iPhone 6s Plus - 128 GB, Rose Gold                           0.0   \n",
       "APPLE iPhone 7 - Silver, 128 GB                                    0.0   \n",
       "APPLE iPhone 7 - Silver, 32 GB                                     0.0   \n",
       "\n",
       "author                                              ???????????  Aksisey  \\\n",
       "product                                                                     \n",
       "AICEK Coque ASUS ZenFone 3 ZE520KL, AICEK Etui ...           0.0      0.0   \n",
       "AICEK Coque Samsung Galaxy A3 2016, AICEK Etui ...           0.0      0.0   \n",
       "APPLE iPhone 6s Plus - 128 GB, Rose Gold                     0.0      0.0   \n",
       "APPLE iPhone 7 - Silver, 128 GB                              0.0      0.0   \n",
       "APPLE iPhone 7 - Silver, 32 GB                               0.0      0.0   \n",
       "\n",
       "author                                              Alan  ...  ÐÐ»ÐµÐ³  \\\n",
       "product                                                   ...             \n",
       "AICEK Coque ASUS ZenFone 3 ZE520KL, AICEK Etui ...   0.0  ...       0.0   \n",
       "AICEK Coque Samsung Galaxy A3 2016, AICEK Etui ...   0.0  ...       0.0   \n",
       "APPLE iPhone 6s Plus - 128 GB, Rose Gold             0.0  ...       0.0   \n",
       "APPLE iPhone 7 - Silver, 128 GB                      0.0  ...       0.0   \n",
       "APPLE iPhone 7 - Silver, 32 GB                       9.0  ...       0.0   \n",
       "\n",
       "author                                              ÐÐ»ÑÐ³Ð°  ÐÐ°Ð²ÐµÐ»  \\\n",
       "product                                                                      \n",
       "AICEK Coque ASUS ZenFone 3 ZE520KL, AICEK Etui ...         0.0         0.0   \n",
       "AICEK Coque Samsung Galaxy A3 2016, AICEK Etui ...         0.0         0.0   \n",
       "APPLE iPhone 6s Plus - 128 GB, Rose Gold                   0.0         0.0   \n",
       "APPLE iPhone 7 - Silver, 128 GB                            0.0         0.0   \n",
       "APPLE iPhone 7 - Silver, 32 GB                             0.0         0.0   \n",
       "\n",
       "author                                              Ð Ð¾Ð¼Ð°Ð½  Ð ÑÑÐ»Ð°Ð½  \\\n",
       "product                                                                        \n",
       "AICEK Coque ASUS ZenFone 3 ZE520KL, AICEK Etui ...         0.0           0.0   \n",
       "AICEK Coque Samsung Galaxy A3 2016, AICEK Etui ...         0.0           0.0   \n",
       "APPLE iPhone 6s Plus - 128 GB, Rose Gold                   0.0           0.0   \n",
       "APPLE iPhone 7 - Silver, 128 GB                            0.0           0.0   \n",
       "APPLE iPhone 7 - Silver, 32 GB                             0.0           0.0   \n",
       "\n",
       "author                                              Ð¡Ð²ÐµÑÐ»Ð°Ð½Ð°  \\\n",
       "product                                                                \n",
       "AICEK Coque ASUS ZenFone 3 ZE520KL, AICEK Etui ...               0.0   \n",
       "AICEK Coque Samsung Galaxy A3 2016, AICEK Etui ...               0.0   \n",
       "APPLE iPhone 6s Plus - 128 GB, Rose Gold                         0.0   \n",
       "APPLE iPhone 7 - Silver, 128 GB                                  0.0   \n",
       "APPLE iPhone 7 - Silver, 32 GB                                   0.0   \n",
       "\n",
       "author                                              Ð¡ÐµÑÐ³ÐµÐ¹  \\\n",
       "product                                                            \n",
       "AICEK Coque ASUS ZenFone 3 ZE520KL, AICEK Etui ...           0.0   \n",
       "AICEK Coque Samsung Galaxy A3 2016, AICEK Etui ...           0.0   \n",
       "APPLE iPhone 6s Plus - 128 GB, Rose Gold                     0.0   \n",
       "APPLE iPhone 7 - Silver, 128 GB                              0.0   \n",
       "APPLE iPhone 7 - Silver, 32 GB                               0.0   \n",
       "\n",
       "author                                              Ð¢Ð°ÑÑÑÐ½Ð°  Ð®Ð»Ð¸Ñ  \\\n",
       "product                                                                        \n",
       "AICEK Coque ASUS ZenFone 3 ZE520KL, AICEK Etui ...             0.0       0.0   \n",
       "AICEK Coque Samsung Galaxy A3 2016, AICEK Etui ...             0.0       0.0   \n",
       "APPLE iPhone 6s Plus - 128 GB, Rose Gold                       0.0       0.0   \n",
       "APPLE iPhone 7 - Silver, 128 GB                                0.0       0.0   \n",
       "APPLE iPhone 7 - Silver, 32 GB                                 0.0       0.0   \n",
       "\n",
       "author                                              Ð®ÑÐ¸Ð¹  \n",
       "product                                                       \n",
       "AICEK Coque ASUS ZenFone 3 ZE520KL, AICEK Etui ...       0.0  \n",
       "AICEK Coque Samsung Galaxy A3 2016, AICEK Etui ...       0.0  \n",
       "APPLE iPhone 6s Plus - 128 GB, Rose Gold                 0.0  \n",
       "APPLE iPhone 7 - Silver, 128 GB                          0.0  \n",
       "APPLE iPhone 7 - Silver, 32 GB                           0.0  \n",
       "\n",
       "[5 rows x 270 columns]"
      ]
     },
     "execution_count": 39,
     "metadata": {},
     "output_type": "execute_result"
    }
   ],
   "source": [
    "X = ratings_matrix.T\n",
    "X.head()"
   ]
  },
  {
   "cell_type": "code",
   "execution_count": 40,
   "metadata": {},
   "outputs": [
    {
     "data": {
      "text/plain": [
       "(1703, 270)"
      ]
     },
     "execution_count": 40,
     "metadata": {},
     "output_type": "execute_result"
    }
   ],
   "source": [
    "X1 = X\n",
    "\n",
    "X.shape"
   ]
  },
  {
   "cell_type": "code",
   "execution_count": 41,
   "metadata": {},
   "outputs": [
    {
     "data": {
      "text/plain": [
       "(1703, 10)"
      ]
     },
     "execution_count": 41,
     "metadata": {},
     "output_type": "execute_result"
    }
   ],
   "source": [
    "#Decomposing the Matrix\n",
    "\n",
    "SVD = TruncatedSVD(n_components=10)\n",
    "decomposed_matrix = SVD.fit_transform(X)\n",
    "decomposed_matrix.shape"
   ]
  },
  {
   "cell_type": "code",
   "execution_count": 42,
   "metadata": {},
   "outputs": [
    {
     "data": {
      "text/plain": [
       "(1703, 1703)"
      ]
     },
     "execution_count": 42,
     "metadata": {},
     "output_type": "execute_result"
    }
   ],
   "source": [
    "#Correlation Matrix\n",
    "\n",
    "correlation_matrix = np.corrcoef(decomposed_matrix)\n",
    "correlation_matrix.shape"
   ]
  },
  {
   "cell_type": "code",
   "execution_count": null,
   "metadata": {},
   "outputs": [],
   "source": []
  },
  {
   "cell_type": "code",
   "execution_count": 43,
   "metadata": {},
   "outputs": [
    {
     "data": {
      "text/plain": [
       "1702"
      ]
     },
     "execution_count": 43,
     "metadata": {},
     "output_type": "execute_result"
    }
   ],
   "source": [
    "product_names = list(X.index)\n",
    "product_ID = product_names.index(X.index[1702])\n",
    "product_ID"
   ]
  },
  {
   "cell_type": "code",
   "execution_count": 44,
   "metadata": {},
   "outputs": [
    {
     "data": {
      "text/plain": [
       "(1703,)"
      ]
     },
     "execution_count": 44,
     "metadata": {},
     "output_type": "execute_result"
    }
   ],
   "source": [
    "#Correlation for all items with the item purchased by this customer based on items rated by other customers people who bought the same product\n",
    "\n",
    "correlation_product_ID = correlation_matrix[product_ID]\n",
    "correlation_product_ID.shape"
   ]
  },
  {
   "cell_type": "markdown",
   "metadata": {},
   "source": [
    "###### Top 5 products for test users."
   ]
  },
  {
   "cell_type": "code",
   "execution_count": 45,
   "metadata": {},
   "outputs": [
    {
     "data": {
      "text/plain": [
       "['ASUS ZenFone 3 Max ZC520TL 16GB (Ñ\\x81ÐµÑ\\x80ÐµÐ±Ñ\\x80Ð¸Ñ\\x81Ñ\\x82Ñ\\x8bÐ¹)',\n",
       " 'Alcatel One Touch Idol 3 Smartphone,4.7\", Single SIM, Grigio Scuro [Italia]',\n",
       " 'Apple Apple iPhone 5s - 32GB - Zilver',\n",
       " 'Apple iPhone 3GS 32GB',\n",
       " 'Apple iPhone 6s Plus Unlocked GSM 4G LTE Smartphone with 12MP Camera, 16 GB (Rose Gold)']"
      ]
     },
     "execution_count": 45,
     "metadata": {},
     "output_type": "execute_result"
    }
   ],
   "source": [
    "#Recommending top 5 highly correlated products in sequence\n",
    "\n",
    "Recommend = list(X.index[correlation_product_ID > 0.65])\n",
    "\n",
    "# Removes the item already bought by the customer\n",
    "Recommend.remove(X.index[1702]) \n",
    "\n",
    "Recommend[0:5]"
   ]
  },
  {
   "cell_type": "code",
   "execution_count": null,
   "metadata": {},
   "outputs": [],
   "source": []
  },
  {
   "cell_type": "markdown",
   "metadata": {},
   "source": [
    "###### In what business scenario you should use popularity based Recommendation Systems ?\n",
    "\n",
    "Popularity based recommendation system works with the trend(what most of the population likes). It basically uses the items which are in trend. For example, if any product which is usually bought by every new user then there are chances that it may suggest that item to the user who just signed up. Example: IMDB movie recommendation\n",
    "\n",
    "The Popularity based recommender provide a general chart of recommended to all the users. They are not sensitive to the interests and tastes of a particular user."
   ]
  },
  {
   "cell_type": "markdown",
   "metadata": {},
   "source": [
    "###### In what business scenario you should use CF based Recommendation Systems ?\n",
    "\n",
    "CF recommendation system is used for making automatic predictions about the interests of a user by collecting preferences or taste information from many users i.e. collaboration. These predictions are specific to the user, but use information gained from multiple users. This differs from the simpler approach of giving an average (non-specific) score for each item of interest, for example based on its number of votes(popularity based).\n",
    "\n",
    "So, the business scenarios where user specific recommendation is required, we make used of different form of CF rommendation system."
   ]
  },
  {
   "cell_type": "markdown",
   "metadata": {},
   "source": [
    "###### What other possible methods can you think of which can further improve the recommendation for different users ?\n",
    "\n",
    "The other methods which can be used for recommendations are:\n",
    "1) Hybrid filtering\n",
    "2) Evaluation metrics"
   ]
  },
  {
   "cell_type": "code",
   "execution_count": null,
   "metadata": {},
   "outputs": [],
   "source": []
  }
 ],
 "metadata": {
  "kernelspec": {
   "display_name": "Python 3",
   "language": "python",
   "name": "python3"
  },
  "language_info": {
   "codemirror_mode": {
    "name": "ipython",
    "version": 3
   },
   "file_extension": ".py",
   "mimetype": "text/x-python",
   "name": "python",
   "nbconvert_exporter": "python",
   "pygments_lexer": "ipython3",
   "version": "3.8.8"
  }
 },
 "nbformat": 4,
 "nbformat_minor": 4
}
